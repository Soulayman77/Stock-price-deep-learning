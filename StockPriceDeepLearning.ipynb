{
 "cells": [
  {
   "cell_type": "code",
   "execution_count": 1,
   "id": "fd2f3770",
   "metadata": {},
   "outputs": [],
   "source": [
    "import os\n",
    "import numpy as np\n",
    "import pandas as pd\n",
    "import matplotlib.pyplot as plt \n",
    "%matplotlib inline"
   ]
  },
  {
   "cell_type": "code",
   "execution_count": 2,
   "id": "bbb89f72",
   "metadata": {},
   "outputs": [],
   "source": [
    "dataset_train= pd.read_csv(\"/Users/soulaymanbarday/Downloads/archive/Google_Stock_Price_Train.csv\")\n"
   ]
  },
  {
   "cell_type": "code",
   "execution_count": 3,
   "id": "29727426",
   "metadata": {},
   "outputs": [],
   "source": [
    "dataset_train= pd.read_csv(\"/Users/soulaymanbarday/Downloads/archive/Google_Stock_Price_Train.csv\")\n"
   ]
  },
  {
   "cell_type": "code",
   "execution_count": 4,
   "id": "51b133e8",
   "metadata": {},
   "outputs": [
    {
     "data": {
      "text/html": [
       "<div>\n",
       "<style scoped>\n",
       "    .dataframe tbody tr th:only-of-type {\n",
       "        vertical-align: middle;\n",
       "    }\n",
       "\n",
       "    .dataframe tbody tr th {\n",
       "        vertical-align: top;\n",
       "    }\n",
       "\n",
       "    .dataframe thead th {\n",
       "        text-align: right;\n",
       "    }\n",
       "</style>\n",
       "<table border=\"1\" class=\"dataframe\">\n",
       "  <thead>\n",
       "    <tr style=\"text-align: right;\">\n",
       "      <th></th>\n",
       "      <th>Date</th>\n",
       "      <th>Open</th>\n",
       "      <th>High</th>\n",
       "      <th>Low</th>\n",
       "      <th>Close</th>\n",
       "      <th>Volume</th>\n",
       "    </tr>\n",
       "  </thead>\n",
       "  <tbody>\n",
       "    <tr>\n",
       "      <th>0</th>\n",
       "      <td>1/3/2012</td>\n",
       "      <td>325.25</td>\n",
       "      <td>332.83</td>\n",
       "      <td>324.97</td>\n",
       "      <td>663.59</td>\n",
       "      <td>7,380,500</td>\n",
       "    </tr>\n",
       "    <tr>\n",
       "      <th>1</th>\n",
       "      <td>1/4/2012</td>\n",
       "      <td>331.27</td>\n",
       "      <td>333.87</td>\n",
       "      <td>329.08</td>\n",
       "      <td>666.45</td>\n",
       "      <td>5,749,400</td>\n",
       "    </tr>\n",
       "    <tr>\n",
       "      <th>2</th>\n",
       "      <td>1/5/2012</td>\n",
       "      <td>329.83</td>\n",
       "      <td>330.75</td>\n",
       "      <td>326.89</td>\n",
       "      <td>657.21</td>\n",
       "      <td>6,590,300</td>\n",
       "    </tr>\n",
       "    <tr>\n",
       "      <th>3</th>\n",
       "      <td>1/6/2012</td>\n",
       "      <td>328.34</td>\n",
       "      <td>328.77</td>\n",
       "      <td>323.68</td>\n",
       "      <td>648.24</td>\n",
       "      <td>5,405,900</td>\n",
       "    </tr>\n",
       "    <tr>\n",
       "      <th>4</th>\n",
       "      <td>1/9/2012</td>\n",
       "      <td>322.04</td>\n",
       "      <td>322.29</td>\n",
       "      <td>309.46</td>\n",
       "      <td>620.76</td>\n",
       "      <td>11,688,800</td>\n",
       "    </tr>\n",
       "  </tbody>\n",
       "</table>\n",
       "</div>"
      ],
      "text/plain": [
       "       Date    Open    High     Low   Close      Volume\n",
       "0  1/3/2012  325.25  332.83  324.97  663.59   7,380,500\n",
       "1  1/4/2012  331.27  333.87  329.08  666.45   5,749,400\n",
       "2  1/5/2012  329.83  330.75  326.89  657.21   6,590,300\n",
       "3  1/6/2012  328.34  328.77  323.68  648.24   5,405,900\n",
       "4  1/9/2012  322.04  322.29  309.46  620.76  11,688,800"
      ]
     },
     "execution_count": 4,
     "metadata": {},
     "output_type": "execute_result"
    }
   ],
   "source": [
    "dataset_train.head()"
   ]
  },
  {
   "cell_type": "code",
   "execution_count": 5,
   "id": "bc459b69",
   "metadata": {},
   "outputs": [],
   "source": [
    "training_set= dataset_train.iloc[:,1:2].values\n"
   ]
  },
  {
   "cell_type": "code",
   "execution_count": 6,
   "id": "ee7536ed",
   "metadata": {},
   "outputs": [],
   "source": [
    "from sklearn.preprocessing import MinMaxScaler\n"
   ]
  },
  {
   "cell_type": "code",
   "execution_count": 7,
   "id": "880db6fd",
   "metadata": {},
   "outputs": [],
   "source": [
    "scaler = MinMaxScaler(feature_range= (0,1))\n",
    "scaled_training_set = scaler.fit_transform(training_set)"
   ]
  },
  {
   "cell_type": "code",
   "execution_count": 8,
   "id": "dafabe32",
   "metadata": {},
   "outputs": [],
   "source": [
    "X_train = []\n",
    "y_train = []\n",
    "for i in range(60,1258):\n",
    "    X_train.append(scaled_training_set[i-60 : i,0])\n",
    "    y_train.append(scaled_training_set[i,0])\n",
    "X_train = np.array(X_train)\n",
    "y_train = np.array(y_train)"
   ]
  },
  {
   "cell_type": "code",
   "execution_count": 9,
   "id": "d3ed9574",
   "metadata": {},
   "outputs": [
    {
     "name": "stdout",
     "output_type": "stream",
     "text": [
      "[[0.08581368 0.09701243 0.09433366 ... 0.07846566 0.08034452 0.08497656]\n",
      " [0.09701243 0.09433366 0.09156187 ... 0.08034452 0.08497656 0.08627874]\n",
      " [0.09433366 0.09156187 0.07984225 ... 0.08497656 0.08627874 0.08471612]\n",
      " ...\n",
      " [0.92106928 0.92438053 0.93048218 ... 0.95475854 0.95204256 0.95163331]\n",
      " [0.92438053 0.93048218 0.9299055  ... 0.95204256 0.95163331 0.95725128]\n",
      " [0.93048218 0.9299055  0.93113327 ... 0.95163331 0.95725128 0.93796041]]\n",
      "[0.08627874 0.08471612 0.07454052 ... 0.95725128 0.93796041 0.93688146]\n"
     ]
    }
   ],
   "source": [
    "print(X_train)\n",
    "print(y_train)"
   ]
  },
  {
   "cell_type": "code",
   "execution_count": 10,
   "id": "12e1ac77",
   "metadata": {},
   "outputs": [
    {
     "name": "stdout",
     "output_type": "stream",
     "text": [
      "[0.08627874 0.08471612 0.07454052 ... 0.95725128 0.93796041 0.93688146]\n"
     ]
    }
   ],
   "source": [
    "print(y_train)\n"
   ]
  },
  {
   "cell_type": "code",
   "execution_count": 11,
   "id": "45357481",
   "metadata": {},
   "outputs": [
    {
     "name": "stdout",
     "output_type": "stream",
     "text": [
      "[[0.08581368 0.09701243 0.09433366 ... 0.07846566 0.08034452 0.08497656]\n",
      " [0.09701243 0.09433366 0.09156187 ... 0.08034452 0.08497656 0.08627874]\n",
      " [0.09433366 0.09156187 0.07984225 ... 0.08497656 0.08627874 0.08471612]\n",
      " ...\n",
      " [0.92106928 0.92438053 0.93048218 ... 0.95475854 0.95204256 0.95163331]\n",
      " [0.92438053 0.93048218 0.9299055  ... 0.95204256 0.95163331 0.95725128]\n",
      " [0.93048218 0.9299055  0.93113327 ... 0.95163331 0.95725128 0.93796041]]\n"
     ]
    }
   ],
   "source": [
    "print(X_train)\n"
   ]
  },
  {
   "cell_type": "code",
   "execution_count": 12,
   "id": "0179939e",
   "metadata": {},
   "outputs": [
    {
     "name": "stdout",
     "output_type": "stream",
     "text": [
      "[[325.25]\n",
      " [331.27]\n",
      " [329.83]\n",
      " ...\n",
      " [793.7 ]\n",
      " [783.33]\n",
      " [782.75]]\n"
     ]
    }
   ],
   "source": [
    "print(training_set)"
   ]
  },
  {
   "cell_type": "code",
   "execution_count": 13,
   "id": "72d46501",
   "metadata": {},
   "outputs": [
    {
     "name": "stdout",
     "output_type": "stream",
     "text": [
      "1198\n"
     ]
    }
   ],
   "source": [
    "print( len(X_train))"
   ]
  },
  {
   "cell_type": "code",
   "execution_count": 14,
   "id": "f6181db4",
   "metadata": {},
   "outputs": [
    {
     "name": "stdout",
     "output_type": "stream",
     "text": [
      "60\n"
     ]
    }
   ],
   "source": [
    "print( len(X_train[0]))"
   ]
  },
  {
   "cell_type": "code",
   "execution_count": 15,
   "id": "c933864d",
   "metadata": {},
   "outputs": [
    {
     "data": {
      "text/plain": [
       "(1198, 60, 1)"
      ]
     },
     "execution_count": 15,
     "metadata": {},
     "output_type": "execute_result"
    }
   ],
   "source": [
    "X_train = np.reshape(X_train, (X_train.shape[0], X_train.shape[1],1))\n",
    "X_train.shape"
   ]
  },
  {
   "cell_type": "code",
   "execution_count": 16,
   "id": "94b13723",
   "metadata": {},
   "outputs": [],
   "source": [
    "from keras.models import Sequential\n",
    "from keras.layers import LSTM\n",
    "from keras.layers import Dense\n",
    "from keras.layers import Dropout\n"
   ]
  },
  {
   "cell_type": "raw",
   "id": "c35862de",
   "metadata": {},
   "source": [
    "regressor = Sequential()\n",
    "\n",
    "regressor.add(LSTM(units=50, return_sequences=True, input_shape=(X_train.shape[1], 1)))\n",
    "regressor.add(Dropout(0.2))\n",
    "\n",
    "regressor.add(LSTM(units=50, return_sequences=True))\n",
    "regressor.add(Dropout(0.2))\n",
    "\n",
    "regressor.add(LSTM(units=50, return_sequences=True))\n",
    "regressor.add(Dropout(0.2))\n",
    "\n",
    "regressor.add(LSTM(units=50))\n",
    "regressor.add(Dropout(0.2))\n",
    "\n",
    "regressor.add(Dense(units=1))\n"
   ]
  },
  {
   "cell_type": "code",
   "execution_count": 19,
   "id": "e0339601",
   "metadata": {
    "scrolled": true
   },
   "outputs": [
    {
     "ename": "NameError",
     "evalue": "name 'regressor' is not defined",
     "output_type": "error",
     "traceback": [
      "\u001b[0;31m---------------------------------------------------------------------------\u001b[0m",
      "\u001b[0;31mNameError\u001b[0m                                 Traceback (most recent call last)",
      "Cell \u001b[0;32mIn[19], line 1\u001b[0m\n\u001b[0;32m----> 1\u001b[0m regressor\u001b[38;5;241m.\u001b[39mcompile(optimizer\u001b[38;5;241m=\u001b[39m\u001b[38;5;124m'\u001b[39m\u001b[38;5;124madam\u001b[39m\u001b[38;5;124m'\u001b[39m, loss\u001b[38;5;241m=\u001b[39m\u001b[38;5;124m'\u001b[39m\u001b[38;5;124mmean_squared_error\u001b[39m\u001b[38;5;124m'\u001b[39m)\n\u001b[1;32m      2\u001b[0m regressor\u001b[38;5;241m.\u001b[39mfit(X_train, y_train, epochs\u001b[38;5;241m=\u001b[39m\u001b[38;5;241m100\u001b[39m, batch_size\u001b[38;5;241m=\u001b[39m\u001b[38;5;241m32\u001b[39m)\n",
      "\u001b[0;31mNameError\u001b[0m: name 'regressor' is not defined"
     ]
    }
   ],
   "source": [
    "regressor.compile(optimizer='adam', loss='mean_squared_error')\n",
    "regressdor.fit(X_train, y_train, epochs=100, batch_size=32)"
   ]
  },
  {
   "cell_type": "code",
   "execution_count": 23,
   "id": "6ebb60ad",
   "metadata": {},
   "outputs": [
    {
     "name": "stdout",
     "output_type": "stream",
     "text": [
      "Epoch 1/100\n",
      "38/38 [==============================] - 5s 58ms/step - loss: 0.0408\n",
      "Epoch 2/100\n",
      "38/38 [==============================] - 2s 59ms/step - loss: 0.0061\n",
      "Epoch 3/100\n",
      "38/38 [==============================] - 2s 62ms/step - loss: 0.0053\n",
      "Epoch 4/100\n",
      "38/38 [==============================] - 2s 65ms/step - loss: 0.0057\n",
      "Epoch 5/100\n",
      "38/38 [==============================] - 2s 64ms/step - loss: 0.0047\n",
      "Epoch 6/100\n",
      "38/38 [==============================] - 2s 63ms/step - loss: 0.0057\n",
      "Epoch 7/100\n",
      "38/38 [==============================] - 3s 66ms/step - loss: 0.0053\n",
      "Epoch 8/100\n",
      "38/38 [==============================] - 2s 64ms/step - loss: 0.0050\n",
      "Epoch 9/100\n",
      "38/38 [==============================] - 2s 63ms/step - loss: 0.0051\n",
      "Epoch 10/100\n",
      "38/38 [==============================] - 2s 63ms/step - loss: 0.0045\n",
      "Epoch 11/100\n",
      "38/38 [==============================] - 2s 63ms/step - loss: 0.0042\n",
      "Epoch 12/100\n",
      "38/38 [==============================] - 2s 63ms/step - loss: 0.0043\n",
      "Epoch 13/100\n",
      "38/38 [==============================] - 2s 64ms/step - loss: 0.0040\n",
      "Epoch 14/100\n",
      "38/38 [==============================] - 2s 64ms/step - loss: 0.0043\n",
      "Epoch 15/100\n",
      "38/38 [==============================] - 3s 81ms/step - loss: 0.0048\n",
      "Epoch 16/100\n",
      "38/38 [==============================] - 3s 83ms/step - loss: 0.0044\n",
      "Epoch 17/100\n",
      "38/38 [==============================] - 3s 83ms/step - loss: 0.0034\n",
      "Epoch 18/100\n",
      "38/38 [==============================] - 3s 75ms/step - loss: 0.0037\n",
      "Epoch 19/100\n",
      "38/38 [==============================] - 3s 80ms/step - loss: 0.0040\n",
      "Epoch 20/100\n",
      "38/38 [==============================] - 3s 74ms/step - loss: 0.0033\n",
      "Epoch 21/100\n",
      "38/38 [==============================] - 3s 77ms/step - loss: 0.0033\n",
      "Epoch 22/100\n",
      "38/38 [==============================] - 3s 75ms/step - loss: 0.0032\n",
      "Epoch 23/100\n",
      "38/38 [==============================] - 3s 76ms/step - loss: 0.0037\n",
      "Epoch 24/100\n",
      "38/38 [==============================] - 3s 74ms/step - loss: 0.0033\n",
      "Epoch 25/100\n",
      "38/38 [==============================] - 3s 75ms/step - loss: 0.0035\n",
      "Epoch 26/100\n",
      "38/38 [==============================] - 3s 75ms/step - loss: 0.0033\n",
      "Epoch 27/100\n",
      "38/38 [==============================] - 3s 75ms/step - loss: 0.0032\n",
      "Epoch 28/100\n",
      "38/38 [==============================] - 3s 74ms/step - loss: 0.0034\n",
      "Epoch 29/100\n",
      "38/38 [==============================] - 3s 78ms/step - loss: 0.0029\n",
      "Epoch 30/100\n",
      "38/38 [==============================] - 3s 76ms/step - loss: 0.0030\n",
      "Epoch 31/100\n",
      "38/38 [==============================] - 3s 74ms/step - loss: 0.0031\n",
      "Epoch 32/100\n",
      "38/38 [==============================] - 3s 75ms/step - loss: 0.0030\n",
      "Epoch 33/100\n",
      "38/38 [==============================] - 3s 77ms/step - loss: 0.0029\n",
      "Epoch 34/100\n",
      "38/38 [==============================] - 3s 76ms/step - loss: 0.0029\n",
      "Epoch 35/100\n",
      "38/38 [==============================] - 3s 78ms/step - loss: 0.0028\n",
      "Epoch 36/100\n",
      "38/38 [==============================] - 3s 76ms/step - loss: 0.0037\n",
      "Epoch 37/100\n",
      "38/38 [==============================] - 3s 76ms/step - loss: 0.0026\n",
      "Epoch 38/100\n",
      "38/38 [==============================] - 3s 75ms/step - loss: 0.0028\n",
      "Epoch 39/100\n",
      "38/38 [==============================] - 3s 78ms/step - loss: 0.0026\n",
      "Epoch 40/100\n",
      "38/38 [==============================] - 3s 78ms/step - loss: 0.0030\n",
      "Epoch 41/100\n",
      "38/38 [==============================] - 3s 76ms/step - loss: 0.0028\n",
      "Epoch 42/100\n",
      "38/38 [==============================] - 3s 76ms/step - loss: 0.0027\n",
      "Epoch 43/100\n",
      "38/38 [==============================] - 3s 75ms/step - loss: 0.0025\n",
      "Epoch 44/100\n",
      "38/38 [==============================] - 3s 74ms/step - loss: 0.0026\n",
      "Epoch 45/100\n",
      "38/38 [==============================] - 3s 75ms/step - loss: 0.0024\n",
      "Epoch 46/100\n",
      "38/38 [==============================] - 3s 77ms/step - loss: 0.0028\n",
      "Epoch 47/100\n",
      "38/38 [==============================] - 3s 76ms/step - loss: 0.0023\n",
      "Epoch 48/100\n",
      "38/38 [==============================] - 3s 75ms/step - loss: 0.0025\n",
      "Epoch 49/100\n",
      "38/38 [==============================] - 3s 75ms/step - loss: 0.0025\n",
      "Epoch 50/100\n",
      "38/38 [==============================] - 3s 79ms/step - loss: 0.0021\n",
      "Epoch 51/100\n",
      "38/38 [==============================] - 3s 76ms/step - loss: 0.0025\n",
      "Epoch 52/100\n",
      "38/38 [==============================] - 3s 76ms/step - loss: 0.0021\n",
      "Epoch 53/100\n",
      "38/38 [==============================] - 3s 77ms/step - loss: 0.0021\n",
      "Epoch 54/100\n",
      "38/38 [==============================] - 3s 80ms/step - loss: 0.0026\n",
      "Epoch 55/100\n",
      "38/38 [==============================] - 3s 80ms/step - loss: 0.0022\n",
      "Epoch 56/100\n",
      "38/38 [==============================] - 3s 77ms/step - loss: 0.0025\n",
      "Epoch 57/100\n",
      "38/38 [==============================] - 3s 79ms/step - loss: 0.0024\n",
      "Epoch 58/100\n",
      "38/38 [==============================] - 3s 79ms/step - loss: 0.0021\n",
      "Epoch 59/100\n",
      "38/38 [==============================] - 3s 81ms/step - loss: 0.0023\n",
      "Epoch 60/100\n",
      "38/38 [==============================] - 3s 87ms/step - loss: 0.0021\n",
      "Epoch 61/100\n",
      "38/38 [==============================] - 3s 79ms/step - loss: 0.0019\n",
      "Epoch 62/100\n",
      "38/38 [==============================] - 3s 81ms/step - loss: 0.0022\n",
      "Epoch 63/100\n",
      "38/38 [==============================] - 3s 79ms/step - loss: 0.0022\n",
      "Epoch 64/100\n",
      "38/38 [==============================] - 3s 77ms/step - loss: 0.0023\n",
      "Epoch 65/100\n",
      "38/38 [==============================] - 3s 77ms/step - loss: 0.0020\n",
      "Epoch 66/100\n",
      "38/38 [==============================] - 3s 76ms/step - loss: 0.0019\n",
      "Epoch 67/100\n",
      "38/38 [==============================] - 3s 77ms/step - loss: 0.0020\n",
      "Epoch 68/100\n",
      "38/38 [==============================] - 3s 76ms/step - loss: 0.0021\n",
      "Epoch 69/100\n",
      "38/38 [==============================] - 3s 79ms/step - loss: 0.0019\n",
      "Epoch 70/100\n",
      "38/38 [==============================] - 3s 81ms/step - loss: 0.0019\n",
      "Epoch 71/100\n",
      "38/38 [==============================] - 3s 81ms/step - loss: 0.0019\n",
      "Epoch 72/100\n",
      "38/38 [==============================] - 3s 82ms/step - loss: 0.0017\n",
      "Epoch 73/100\n",
      "38/38 [==============================] - 3s 82ms/step - loss: 0.0020\n",
      "Epoch 74/100\n",
      "38/38 [==============================] - 3s 83ms/step - loss: 0.0019\n",
      "Epoch 75/100\n",
      "38/38 [==============================] - 3s 84ms/step - loss: 0.0020\n",
      "Epoch 76/100\n",
      "38/38 [==============================] - 3s 78ms/step - loss: 0.0017\n",
      "Epoch 77/100\n",
      "38/38 [==============================] - 3s 77ms/step - loss: 0.0018\n",
      "Epoch 78/100\n",
      "38/38 [==============================] - 3s 76ms/step - loss: 0.0019\n",
      "Epoch 79/100\n",
      "38/38 [==============================] - 3s 79ms/step - loss: 0.0017\n",
      "Epoch 80/100\n",
      "38/38 [==============================] - 3s 81ms/step - loss: 0.0020\n",
      "Epoch 81/100\n",
      "38/38 [==============================] - 3s 77ms/step - loss: 0.0017\n",
      "Epoch 82/100\n",
      "38/38 [==============================] - 3s 81ms/step - loss: 0.0019\n",
      "Epoch 83/100\n",
      "38/38 [==============================] - 3s 78ms/step - loss: 0.0016\n",
      "Epoch 84/100\n",
      "38/38 [==============================] - 3s 79ms/step - loss: 0.0016\n",
      "Epoch 85/100\n",
      "38/38 [==============================] - 3s 77ms/step - loss: 0.0016\n",
      "Epoch 86/100\n",
      "38/38 [==============================] - 3s 78ms/step - loss: 0.0014\n",
      "Epoch 87/100\n",
      "38/38 [==============================] - 3s 77ms/step - loss: 0.0015\n",
      "Epoch 88/100\n",
      "38/38 [==============================] - 3s 77ms/step - loss: 0.0015\n",
      "Epoch 89/100\n",
      "38/38 [==============================] - 3s 78ms/step - loss: 0.0016\n",
      "Epoch 90/100\n",
      "38/38 [==============================] - 3s 82ms/step - loss: 0.0015\n",
      "Epoch 91/100\n",
      "38/38 [==============================] - 3s 80ms/step - loss: 0.0016\n",
      "Epoch 92/100\n",
      "38/38 [==============================] - 3s 79ms/step - loss: 0.0015\n",
      "Epoch 93/100\n",
      "38/38 [==============================] - 3s 78ms/step - loss: 0.0014\n",
      "Epoch 94/100\n",
      "38/38 [==============================] - 3s 77ms/step - loss: 0.0015\n",
      "Epoch 95/100\n",
      "38/38 [==============================] - 3s 78ms/step - loss: 0.0015\n",
      "Epoch 96/100\n",
      "38/38 [==============================] - 3s 77ms/step - loss: 0.0013\n",
      "Epoch 97/100\n",
      "38/38 [==============================] - 3s 77ms/step - loss: 0.0015\n",
      "Epoch 98/100\n",
      "38/38 [==============================] - 3s 77ms/step - loss: 0.0015\n",
      "Epoch 99/100\n",
      "38/38 [==============================] - 3s 79ms/step - loss: 0.0014\n",
      "Epoch 100/100\n",
      "38/38 [==============================] - 3s 83ms/step - loss: 0.0015\n"
     ]
    },
    {
     "data": {
      "text/plain": [
       "<keras.src.callbacks.History at 0x283ff92d0>"
      ]
     },
     "execution_count": 23,
     "metadata": {},
     "output_type": "execute_result"
    }
   ],
   "source": [
    "from keras.models import Sequential\n",
    "from keras.layers import LSTM, Dense, Dropout\n",
    "\n",
    "# Create a Sequential model\n",
    "model = Sequential()\n",
    "\n",
    "# Add an LSTM layer\n",
    "model.add(LSTM(units=50, return_sequences=True, input_shape=(X_train.shape[1], 1)))\n",
    "model.add(Dropout(0.2))\n",
    "\n",
    "# Add another LSTM layer\n",
    "model.add(LSTM(units=50, return_sequences=True))\n",
    "model.add(Dropout(0.2))\n",
    "\n",
    "# Add another LSTM layer\n",
    "model.add(LSTM(units=50, return_sequences=True))\n",
    "model.add(Dropout(0.2))\n",
    "\n",
    "# Add a final LSTM layer\n",
    "model.add(LSTM(units=50))\n",
    "model.add(Dropout(0.2))\n",
    "\n",
    "# Add a Dense layer for the output\n",
    "model.add(Dense(units=1))\n",
    "\n",
    "# Compile the model\n",
    "model.compile(optimizer='adam', loss='mean_squared_error')\n",
    "model.fit(X_train, y_train, epochs=100, batch_size=32)"
   ]
  },
  {
   "cell_type": "code",
   "execution_count": 25,
   "id": "7421aaf3",
   "metadata": {},
   "outputs": [],
   "source": [
    "dataset_test=pd.read_csv('/Users/soulaymanbarday/Downloads/archive/Google_Stock_Price_Test.csv')\n",
    "actual_stock_price=dataset_test.iloc[:,1:2].values\n",
    "dataset_total=pd.concat((dataset_train['Open'],  dataset_test['Open']),axis=0)\n",
    "inputs=dataset_total[len(dataset_total) -len(dataset_test)-60:].values\n",
    "\n",
    "\n",
    "inputs= inputs.reshape(-1,1)\n",
    "inputs=scaler.transform(inputs)\n",
    "X_test = []\n",
    "for i in range(60, 80):\n",
    "    X_test.append(inputs[i-60:i, 0])  # Assuming 'inputs' is your input data\n",
    "\n",
    "    \n",
    "X_test=np.array(X_test)"
   ]
  },
  {
   "cell_type": "code",
   "execution_count": 27,
   "id": "ec056471",
   "metadata": {},
   "outputs": [
    {
     "name": "stdout",
     "output_type": "stream",
     "text": [
      "1/1 [==============================] - 1s 1s/step\n"
     ]
    }
   ],
   "source": [
    "predicted_stock_price = model.predict(X_test)\n",
    "predicted_stock_price = predicted_stock_price.reshape(-1, 1)  # Reshape to 2D\n",
    "predicted_stock_price = scaler.inverse_transform(predicted_stock_price)"
   ]
  },
  {
   "cell_type": "code",
   "execution_count": 28,
   "id": "0c3f9c92",
   "metadata": {},
   "outputs": [
    {
     "data": {
      "text/plain": [
       "<function matplotlib.pyplot.legend(*args, **kwargs)>"
      ]
     },
     "execution_count": 28,
     "metadata": {},
     "output_type": "execute_result"
    },
    {
     "data": {
      "image/png": "[encoded data removed]",
      "text/plain": [
       "<Figure size 640x480 with 1 Axes>"
      ]
     },
     "metadata": {},
     "output_type": "display_data"
    }
   ],
   "source": [
    "plt.plot(actual_stock_price , color='red', label = 'Actual Google Stock Price')\n",
    "plt.plot(predicted_stock_price, color = 'blue' , label =\" predicted\")\n",
    "plt.title('Googlz stock price prediction')\n",
    "plt.xlabel('time')\n",
    "plt.ylabel('Google Stock Price')\n",
    "plt.legend"
   ]
  },
  {
   "cell_type": "code",
   "execution_count": null,
   "id": "55ff5794",
   "metadata": {},
   "outputs": [],
   "source": []
  }
 ],
 "metadata": {
  "kernelspec": {
   "display_name": "Python 3 (ipykernel)",
   "language": "python",
   "name": "python3"
  },
  "language_info": {
   "codemirror_mode": {
    "name": "ipython",
    "version": 3
   },
   "file_extension": ".py",
   "mimetype": "text/x-python",
   "name": "python",
   "nbconvert_exporter": "python",
   "pygments_lexer": "ipython3",
   "version": "3.11.5"
  }
 },
 "nbformat": 4,
 "nbformat_minor": 5
}
